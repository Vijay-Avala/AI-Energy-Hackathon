{
 "cells": [
  {
   "cell_type": "markdown",
   "id": "2d9c4da5-e27f-42a3-8adc-029903999dca",
   "metadata": {},
   "source": [
    "# Energy A.I. Hackathon 2025 Workflow - [Your Team Name]\n",
    "## Authors: [Your Names], [Your Departments and Schools]\n",
    "## The University of Texas at Austin, Austin, Texas, USA"
   ]
  },
  {
   "cell_type": "code",
   "execution_count": null,
   "id": "a859ac52-948b-4377-b948-eec24c08c2c8",
   "metadata": {},
   "outputs": [],
   "source": []
  },
  {
   "cell_type": "markdown",
   "id": "a844d222-b283-4454-b67c-2e5d4f400b17",
   "metadata": {},
   "source": [
    "## Executive Summary\n",
    "### Only 4 short sentences.\n",
    "\n",
    "### What is the problem?\n",
    "### What did your team do to address the problem?\n",
    "### What did your team learn?\n",
    "### What does your team recommend going forward?"
   ]
  },
  {
   "cell_type": "code",
   "execution_count": null,
   "id": "bd2453b4-bd2b-4320-be22-dc267f5e52db",
   "metadata": {},
   "outputs": [],
   "source": []
  },
  {
   "cell_type": "markdown",
   "id": "18d0cd5f-0f05-42b8-9fe2-be158cbdf719",
   "metadata": {},
   "source": [
    "## Workflow Goal"
   ]
  },
  {
   "cell_type": "code",
   "execution_count": null,
   "id": "ddebbf87-25db-4776-8ac8-2980e3b3fbb8",
   "metadata": {},
   "outputs": [],
   "source": []
  },
  {
   "cell_type": "markdown",
   "id": "c994abda-4314-4b31-b4eb-a82c17d6f163",
   "metadata": {},
   "source": [
    "## Workflow Goal"
   ]
  },
  {
   "cell_type": "markdown",
   "id": "e9f9fedb-55e1-4ebd-aaa1-68d78596328b",
   "metadata": {},
   "source": [
    "### 1. Data Analysis - basic data checking and visualization\n",
    "### 2. Feature Selection - mutual information-based approach with minimum redundancy, maximum relevance score\n",
    "### 3. Machine Learning Model #1 - Predict feature "
   ]
  },
  {
   "cell_type": "code",
   "execution_count": null,
   "id": "1ad0039c-6052-43a2-8fce-7df545752b55",
   "metadata": {},
   "outputs": [],
   "source": []
  },
  {
   "cell_type": "markdown",
   "id": "017bab10-b2e7-4edb-a781-893b8a92d788",
   "metadata": {},
   "source": [
    "## Import Packages"
   ]
  },
  {
   "cell_type": "code",
   "execution_count": 21,
   "id": "4f8bca86-1144-4192-a401-6edb99fd649d",
   "metadata": {},
   "outputs": [],
   "source": [
    "import numpy as np                                      # model arrays\n",
    "import pandas as pd                                     # DataFrames\n",
    "import matplotlib.pyplot as plt                         # building plots\n",
    "import os  "
   ]
  },
  {
   "cell_type": "markdown",
   "id": "c84df2dd-07b2-4c0f-beef-3259d81271d5",
   "metadata": {},
   "source": [
    "### Load Data"
   ]
  },
  {
   "cell_type": "code",
   "execution_count": 23,
   "id": "5f60e5fc-dcd4-4162-9e9e-8b3a7c5141c9",
   "metadata": {},
   "outputs": [],
   "source": [
    "data = pd.read_csv('HackathonData2025.csv')"
   ]
  },
  {
   "cell_type": "code",
   "execution_count": 24,
   "id": "a4e4173f-3d05-4a6f-aa4b-1fe23cb60cc9",
   "metadata": {},
   "outputs": [
    {
     "data": {
      "text/html": [
       "<div>\n",
       "<style scoped>\n",
       "    .dataframe tbody tr th:only-of-type {\n",
       "        vertical-align: middle;\n",
       "    }\n",
       "\n",
       "    .dataframe tbody tr th {\n",
       "        vertical-align: top;\n",
       "    }\n",
       "\n",
       "    .dataframe thead th {\n",
       "        text-align: right;\n",
       "    }\n",
       "</style>\n",
       "<table border=\"1\" class=\"dataframe\">\n",
       "  <thead>\n",
       "    <tr style=\"text-align: right;\">\n",
       "      <th></th>\n",
       "      <th># Stages</th>\n",
       "      <th># Clusters</th>\n",
       "      <th>Estimated Average Stage Time</th>\n",
       "      <th>Actual Average Stage Time</th>\n",
       "      <th>Ambient Temperature</th>\n",
       "      <th>Grid</th>\n",
       "      <th>Diesel</th>\n",
       "      <th>CNG</th>\n",
       "    </tr>\n",
       "  </thead>\n",
       "  <tbody>\n",
       "    <tr>\n",
       "      <th>count</th>\n",
       "      <td>1082.000000</td>\n",
       "      <td>1082.000000</td>\n",
       "      <td>914.000000</td>\n",
       "      <td>9.110000e+02</td>\n",
       "      <td>920.000000</td>\n",
       "      <td>1.082000e+03</td>\n",
       "      <td>1082.000000</td>\n",
       "      <td>1082.000000</td>\n",
       "    </tr>\n",
       "    <tr>\n",
       "      <th>mean</th>\n",
       "      <td>57.371534</td>\n",
       "      <td>400.095194</td>\n",
       "      <td>96.762691</td>\n",
       "      <td>-7.447010e+03</td>\n",
       "      <td>66.292717</td>\n",
       "      <td>3.396399e+04</td>\n",
       "      <td>57133.506470</td>\n",
       "      <td>7365.848429</td>\n",
       "    </tr>\n",
       "    <tr>\n",
       "      <th>std</th>\n",
       "      <td>13.401390</td>\n",
       "      <td>98.232442</td>\n",
       "      <td>21.529890</td>\n",
       "      <td>2.280547e+05</td>\n",
       "      <td>15.523172</td>\n",
       "      <td>2.312528e+05</td>\n",
       "      <td>50775.907265</td>\n",
       "      <td>7598.273485</td>\n",
       "    </tr>\n",
       "    <tr>\n",
       "      <th>min</th>\n",
       "      <td>31.000000</td>\n",
       "      <td>177.000000</td>\n",
       "      <td>47.100000</td>\n",
       "      <td>-6.883214e+06</td>\n",
       "      <td>35.900000</td>\n",
       "      <td>0.000000e+00</td>\n",
       "      <td>0.000000</td>\n",
       "      <td>0.000000</td>\n",
       "    </tr>\n",
       "    <tr>\n",
       "      <th>25%</th>\n",
       "      <td>50.000000</td>\n",
       "      <td>325.000000</td>\n",
       "      <td>76.200000</td>\n",
       "      <td>9.180000e+01</td>\n",
       "      <td>51.400000</td>\n",
       "      <td>0.000000e+00</td>\n",
       "      <td>0.000000</td>\n",
       "      <td>0.000000</td>\n",
       "    </tr>\n",
       "    <tr>\n",
       "      <th>50%</th>\n",
       "      <td>51.000000</td>\n",
       "      <td>378.500000</td>\n",
       "      <td>96.000000</td>\n",
       "      <td>1.082000e+02</td>\n",
       "      <td>68.500000</td>\n",
       "      <td>0.000000e+00</td>\n",
       "      <td>51908.500000</td>\n",
       "      <td>7869.000000</td>\n",
       "    </tr>\n",
       "    <tr>\n",
       "      <th>75%</th>\n",
       "      <td>68.000000</td>\n",
       "      <td>480.750000</td>\n",
       "      <td>106.700000</td>\n",
       "      <td>1.229000e+02</td>\n",
       "      <td>79.800000</td>\n",
       "      <td>0.000000e+00</td>\n",
       "      <td>94557.750000</td>\n",
       "      <td>13522.250000</td>\n",
       "    </tr>\n",
       "    <tr>\n",
       "      <th>max</th>\n",
       "      <td>101.000000</td>\n",
       "      <td>734.000000</td>\n",
       "      <td>178.700000</td>\n",
       "      <td>1.980000e+02</td>\n",
       "      <td>90.100000</td>\n",
       "      <td>2.591226e+06</td>\n",
       "      <td>214605.000000</td>\n",
       "      <td>30975.000000</td>\n",
       "    </tr>\n",
       "  </tbody>\n",
       "</table>\n",
       "</div>"
      ],
      "text/plain": [
       "          # Stages  # Clusters   Estimated Average Stage Time  \\\n",
       "count  1082.000000  1082.000000                    914.000000   \n",
       "mean     57.371534   400.095194                     96.762691   \n",
       "std      13.401390    98.232442                     21.529890   \n",
       "min      31.000000   177.000000                     47.100000   \n",
       "25%      50.000000   325.000000                     76.200000   \n",
       "50%      51.000000   378.500000                     96.000000   \n",
       "75%      68.000000   480.750000                    106.700000   \n",
       "max     101.000000   734.000000                    178.700000   \n",
       "\n",
       "       Actual Average Stage Time  Ambient Temperature          Grid  \\\n",
       "count               9.110000e+02           920.000000  1.082000e+03   \n",
       "mean               -7.447010e+03            66.292717  3.396399e+04   \n",
       "std                 2.280547e+05            15.523172  2.312528e+05   \n",
       "min                -6.883214e+06            35.900000  0.000000e+00   \n",
       "25%                 9.180000e+01            51.400000  0.000000e+00   \n",
       "50%                 1.082000e+02            68.500000  0.000000e+00   \n",
       "75%                 1.229000e+02            79.800000  0.000000e+00   \n",
       "max                 1.980000e+02            90.100000  2.591226e+06   \n",
       "\n",
       "              Diesel           CNG  \n",
       "count    1082.000000   1082.000000  \n",
       "mean    57133.506470   7365.848429  \n",
       "std     50775.907265   7598.273485  \n",
       "min         0.000000      0.000000  \n",
       "25%         0.000000      0.000000  \n",
       "50%     51908.500000   7869.000000  \n",
       "75%     94557.750000  13522.250000  \n",
       "max    214605.000000  30975.000000  "
      ]
     },
     "execution_count": 24,
     "metadata": {},
     "output_type": "execute_result"
    }
   ],
   "source": [
    "data.describe() "
   ]
  },
  {
   "cell_type": "markdown",
   "id": "cf9baf19-f5d9-412d-bea7-a24defbfb4a3",
   "metadata": {},
   "source": [
    "### Detect Missing Data"
   ]
  },
  {
   "cell_type": "code",
   "execution_count": 29,
   "id": "149b9aa7-fcf0-45dd-9d80-7eae6522a798",
   "metadata": {},
   "outputs": [
    {
     "name": "stdout",
     "output_type": "stream",
     "text": [
      "Columns with missing data:\n",
      "Estimated Average Stage Time    168\n",
      "Actual Average Stage Time       171\n",
      "Fleet Type                        9\n",
      "Ambient Temperature             162\n",
      "dtype: int64\n",
      "\n",
      "Percentage of missing data:\n",
      "Estimated Average Stage Time    15.526802\n",
      "Actual Average Stage Time       15.804067\n",
      "Fleet Type                       0.831793\n",
      "Ambient Temperature             14.972274\n",
      "dtype: float64\n"
     ]
    }
   ],
   "source": [
    "# Detect missing data\n",
    "missing_data_summary = data.isnull().sum()\n",
    "\n",
    "# Display columns with missing values\n",
    "print(\"Columns with missing data:\")\n",
    "print(missing_data_summary[missing_data_summary > 0])\n",
    "\n",
    "# Optional: Display the percentage of missing data\n",
    "missing_percentage = (missing_data_summary / len(data)) * 100\n",
    "print(\"\\nPercentage of missing data:\")\n",
    "print(missing_percentage[missing_percentage > 0])"
   ]
  },
  {
   "cell_type": "markdown",
   "id": "ad92ab4e-1ee2-4ce9-ade3-8a279f2c8b8a",
   "metadata": {},
   "source": [
    "### Deal with Missing Data"
   ]
  },
  {
   "cell_type": "markdown",
   "id": "fcf80010-c2b5-40db-8df0-063755997567",
   "metadata": {},
   "source": [
    "#### Model 1: Remove all Missing data"
   ]
  },
  {
   "cell_type": "code",
   "execution_count": 33,
   "id": "607071a4-91f7-45b6-97c0-7b137e7ed3f8",
   "metadata": {},
   "outputs": [],
   "source": [
    "data_remove = data.dropna()"
   ]
  },
  {
   "cell_type": "code",
   "execution_count": 35,
   "id": "7029e6d2-acbb-4b93-8d03-502da61cd1e7",
   "metadata": {},
   "outputs": [
    {
     "data": {
      "text/html": [
       "<div>\n",
       "<style scoped>\n",
       "    .dataframe tbody tr th:only-of-type {\n",
       "        vertical-align: middle;\n",
       "    }\n",
       "\n",
       "    .dataframe tbody tr th {\n",
       "        vertical-align: top;\n",
       "    }\n",
       "\n",
       "    .dataframe thead th {\n",
       "        text-align: right;\n",
       "    }\n",
       "</style>\n",
       "<table border=\"1\" class=\"dataframe\">\n",
       "  <thead>\n",
       "    <tr style=\"text-align: right;\">\n",
       "      <th></th>\n",
       "      <th>Well Name</th>\n",
       "      <th># Stages</th>\n",
       "      <th># Clusters</th>\n",
       "      <th>Estimated Average Stage Time</th>\n",
       "      <th>Actual Average Stage Time</th>\n",
       "      <th>Frac Fleet</th>\n",
       "      <th>Fleet Type</th>\n",
       "      <th>Target Formation</th>\n",
       "      <th>Field Area</th>\n",
       "      <th>Ambient Temperature</th>\n",
       "      <th>Grid</th>\n",
       "      <th>Diesel</th>\n",
       "      <th>CNG</th>\n",
       "      <th>Fuel Type</th>\n",
       "      <th>Sand Provider</th>\n",
       "    </tr>\n",
       "  </thead>\n",
       "  <tbody>\n",
       "    <tr>\n",
       "      <th>0</th>\n",
       "      <td>Cameron 1H</td>\n",
       "      <td>68</td>\n",
       "      <td>480</td>\n",
       "      <td>85.7</td>\n",
       "      <td>120.5</td>\n",
       "      <td>Fleet 4</td>\n",
       "      <td>Zipper</td>\n",
       "      <td>Pecan Tree</td>\n",
       "      <td>West Campus</td>\n",
       "      <td>35.9</td>\n",
       "      <td>0</td>\n",
       "      <td>0</td>\n",
       "      <td>22717</td>\n",
       "      <td>Turbine</td>\n",
       "      <td>SAND_C_X</td>\n",
       "    </tr>\n",
       "    <tr>\n",
       "      <th>1</th>\n",
       "      <td>Cameron 2H</td>\n",
       "      <td>68</td>\n",
       "      <td>431</td>\n",
       "      <td>85.7</td>\n",
       "      <td>117.6</td>\n",
       "      <td>Fleet 4</td>\n",
       "      <td>Zipper</td>\n",
       "      <td>Pecan Tree</td>\n",
       "      <td>West Campus</td>\n",
       "      <td>35.9</td>\n",
       "      <td>0</td>\n",
       "      <td>0</td>\n",
       "      <td>22717</td>\n",
       "      <td>Turbine</td>\n",
       "      <td>SAND_C_R</td>\n",
       "    </tr>\n",
       "    <tr>\n",
       "      <th>2</th>\n",
       "      <td>Tipton 1H</td>\n",
       "      <td>76</td>\n",
       "      <td>507</td>\n",
       "      <td>76.2</td>\n",
       "      <td>87.0</td>\n",
       "      <td>Fleet 8</td>\n",
       "      <td>Zipper</td>\n",
       "      <td>Bluebonnet</td>\n",
       "      <td>Gregory Gym</td>\n",
       "      <td>38.1</td>\n",
       "      <td>0</td>\n",
       "      <td>65098</td>\n",
       "      <td>14690</td>\n",
       "      <td>DGB</td>\n",
       "      <td>SAND_C_R</td>\n",
       "    </tr>\n",
       "    <tr>\n",
       "      <th>3</th>\n",
       "      <td>Tipton 2H</td>\n",
       "      <td>76</td>\n",
       "      <td>565</td>\n",
       "      <td>76.2</td>\n",
       "      <td>87.3</td>\n",
       "      <td>Fleet 8</td>\n",
       "      <td>Zipper</td>\n",
       "      <td>Lone Star</td>\n",
       "      <td>Gregory Gym</td>\n",
       "      <td>38.1</td>\n",
       "      <td>0</td>\n",
       "      <td>64526</td>\n",
       "      <td>14644</td>\n",
       "      <td>DGB</td>\n",
       "      <td>SAND_C_A</td>\n",
       "    </tr>\n",
       "    <tr>\n",
       "      <th>4</th>\n",
       "      <td>Tipton 3H</td>\n",
       "      <td>76</td>\n",
       "      <td>522</td>\n",
       "      <td>76.2</td>\n",
       "      <td>90.8</td>\n",
       "      <td>Fleet 8</td>\n",
       "      <td>Zipper</td>\n",
       "      <td>Longhorn</td>\n",
       "      <td>Gregory Gym</td>\n",
       "      <td>38.1</td>\n",
       "      <td>0</td>\n",
       "      <td>67659</td>\n",
       "      <td>14975</td>\n",
       "      <td>DGB</td>\n",
       "      <td>SAND_C_X</td>\n",
       "    </tr>\n",
       "    <tr>\n",
       "      <th>...</th>\n",
       "      <td>...</td>\n",
       "      <td>...</td>\n",
       "      <td>...</td>\n",
       "      <td>...</td>\n",
       "      <td>...</td>\n",
       "      <td>...</td>\n",
       "      <td>...</td>\n",
       "      <td>...</td>\n",
       "      <td>...</td>\n",
       "      <td>...</td>\n",
       "      <td>...</td>\n",
       "      <td>...</td>\n",
       "      <td>...</td>\n",
       "      <td>...</td>\n",
       "      <td>...</td>\n",
       "    </tr>\n",
       "    <tr>\n",
       "      <th>1074</th>\n",
       "      <td>Hancock 4H</td>\n",
       "      <td>50</td>\n",
       "      <td>327</td>\n",
       "      <td>120.0</td>\n",
       "      <td>147.2</td>\n",
       "      <td>Fleet 9</td>\n",
       "      <td>Simul</td>\n",
       "      <td>Longhorn</td>\n",
       "      <td>Gregory Gym</td>\n",
       "      <td>89.9</td>\n",
       "      <td>0</td>\n",
       "      <td>37412</td>\n",
       "      <td>7911</td>\n",
       "      <td>DGB</td>\n",
       "      <td>SAND_C_A</td>\n",
       "    </tr>\n",
       "    <tr>\n",
       "      <th>1076</th>\n",
       "      <td>Hancock 6H</td>\n",
       "      <td>50</td>\n",
       "      <td>370</td>\n",
       "      <td>120.0</td>\n",
       "      <td>132.5</td>\n",
       "      <td>Fleet 9</td>\n",
       "      <td>Simul</td>\n",
       "      <td>Longhorn</td>\n",
       "      <td>Gregory Gym</td>\n",
       "      <td>89.9</td>\n",
       "      <td>0</td>\n",
       "      <td>32386</td>\n",
       "      <td>8174</td>\n",
       "      <td>DGB</td>\n",
       "      <td>SAND_C_A</td>\n",
       "    </tr>\n",
       "    <tr>\n",
       "      <th>1077</th>\n",
       "      <td>Knox 1H</td>\n",
       "      <td>47</td>\n",
       "      <td>322</td>\n",
       "      <td>106.7</td>\n",
       "      <td>118.2</td>\n",
       "      <td>Fleet 14</td>\n",
       "      <td>Simul</td>\n",
       "      <td>Monarch Butterfly</td>\n",
       "      <td>Moody Center</td>\n",
       "      <td>90.1</td>\n",
       "      <td>0</td>\n",
       "      <td>71241</td>\n",
       "      <td>0</td>\n",
       "      <td>Diesel</td>\n",
       "      <td>SAND_C_X</td>\n",
       "    </tr>\n",
       "    <tr>\n",
       "      <th>1078</th>\n",
       "      <td>Knox 2H</td>\n",
       "      <td>42</td>\n",
       "      <td>312</td>\n",
       "      <td>106.7</td>\n",
       "      <td>118.1</td>\n",
       "      <td>Fleet 14</td>\n",
       "      <td>Simul</td>\n",
       "      <td>Monarch Butterfly</td>\n",
       "      <td>Moody Center</td>\n",
       "      <td>90.1</td>\n",
       "      <td>0</td>\n",
       "      <td>65006</td>\n",
       "      <td>0</td>\n",
       "      <td>Diesel</td>\n",
       "      <td>SAND_C_R</td>\n",
       "    </tr>\n",
       "    <tr>\n",
       "      <th>1080</th>\n",
       "      <td>Knox 4H</td>\n",
       "      <td>47</td>\n",
       "      <td>322</td>\n",
       "      <td>106.7</td>\n",
       "      <td>117.7</td>\n",
       "      <td>Fleet 14</td>\n",
       "      <td>Simul</td>\n",
       "      <td>Monarch Butterfly</td>\n",
       "      <td>Moody Center</td>\n",
       "      <td>90.1</td>\n",
       "      <td>0</td>\n",
       "      <td>76399</td>\n",
       "      <td>0</td>\n",
       "      <td>Diesel</td>\n",
       "      <td>SAND_C_A</td>\n",
       "    </tr>\n",
       "  </tbody>\n",
       "</table>\n",
       "<p>654 rows × 15 columns</p>\n",
       "</div>"
      ],
      "text/plain": [
       "       Well Name  # Stages  # Clusters   Estimated Average Stage Time  \\\n",
       "0     Cameron 1H        68          480                          85.7   \n",
       "1     Cameron 2H        68          431                          85.7   \n",
       "2      Tipton 1H        76          507                          76.2   \n",
       "3      Tipton 2H        76          565                          76.2   \n",
       "4      Tipton 3H        76          522                          76.2   \n",
       "...          ...       ...          ...                           ...   \n",
       "1074  Hancock 4H        50          327                         120.0   \n",
       "1076  Hancock 6H        50          370                         120.0   \n",
       "1077     Knox 1H        47          322                         106.7   \n",
       "1078     Knox 2H        42          312                         106.7   \n",
       "1080     Knox 4H        47          322                         106.7   \n",
       "\n",
       "      Actual Average Stage Time Frac Fleet Fleet Type   Target Formation  \\\n",
       "0                         120.5    Fleet 4     Zipper         Pecan Tree   \n",
       "1                         117.6    Fleet 4     Zipper         Pecan Tree   \n",
       "2                          87.0    Fleet 8     Zipper         Bluebonnet   \n",
       "3                          87.3    Fleet 8     Zipper          Lone Star   \n",
       "4                          90.8    Fleet 8     Zipper           Longhorn   \n",
       "...                         ...        ...        ...                ...   \n",
       "1074                      147.2    Fleet 9      Simul           Longhorn   \n",
       "1076                      132.5    Fleet 9      Simul           Longhorn   \n",
       "1077                      118.2   Fleet 14      Simul  Monarch Butterfly   \n",
       "1078                      118.1   Fleet 14      Simul  Monarch Butterfly   \n",
       "1080                      117.7   Fleet 14      Simul  Monarch Butterfly   \n",
       "\n",
       "        Field Area  Ambient Temperature  Grid  Diesel    CNG Fuel Type  \\\n",
       "0      West Campus                 35.9     0       0  22717   Turbine   \n",
       "1      West Campus                 35.9     0       0  22717   Turbine   \n",
       "2      Gregory Gym                 38.1     0   65098  14690       DGB   \n",
       "3      Gregory Gym                 38.1     0   64526  14644       DGB   \n",
       "4      Gregory Gym                 38.1     0   67659  14975       DGB   \n",
       "...            ...                  ...   ...     ...    ...       ...   \n",
       "1074   Gregory Gym                 89.9     0   37412   7911       DGB   \n",
       "1076   Gregory Gym                 89.9     0   32386   8174       DGB   \n",
       "1077  Moody Center                 90.1     0   71241      0    Diesel   \n",
       "1078  Moody Center                 90.1     0   65006      0    Diesel   \n",
       "1080  Moody Center                 90.1     0   76399      0    Diesel   \n",
       "\n",
       "     Sand Provider   \n",
       "0          SAND_C_X  \n",
       "1          SAND_C_R  \n",
       "2          SAND_C_R  \n",
       "3          SAND_C_A  \n",
       "4          SAND_C_X  \n",
       "...             ...  \n",
       "1074       SAND_C_A  \n",
       "1076       SAND_C_A  \n",
       "1077       SAND_C_X  \n",
       "1078       SAND_C_R  \n",
       "1080       SAND_C_A  \n",
       "\n",
       "[654 rows x 15 columns]"
      ]
     },
     "execution_count": 35,
     "metadata": {},
     "output_type": "execute_result"
    }
   ],
   "source": [
    "data_remove"
   ]
  },
  {
   "cell_type": "markdown",
   "id": "e678eb30-3eaa-4c51-9787-e9888061584e",
   "metadata": {},
   "source": [
    "#### More than 300 rows are taken out with Nans, it might not proper due to many info missing"
   ]
  },
  {
   "cell_type": "markdown",
   "id": "bac3f178-2048-4b53-80d9-461613fb3ca1",
   "metadata": {},
   "source": [
    "#### Model 2: Filling missing data with mean"
   ]
  },
  {
   "cell_type": "code",
   "execution_count": 39,
   "id": "7ea041dc-6227-4768-90e2-45444c0e4674",
   "metadata": {},
   "outputs": [
    {
     "name": "stdout",
     "output_type": "stream",
     "text": [
      "Well Name                       0\n",
      "# Stages                        0\n",
      "# Clusters                      0\n",
      "Estimated Average Stage Time    0\n",
      "Actual Average Stage Time       0\n",
      "Frac Fleet                      0\n",
      "Fleet Type                      0\n",
      "Target Formation                0\n",
      "Field Area                      0\n",
      "Ambient Temperature             0\n",
      "Grid                            0\n",
      "Diesel                          0\n",
      "CNG                             0\n",
      "Fuel Type                       0\n",
      "Sand Provider                   0\n",
      "dtype: int64\n"
     ]
    },
    {
     "name": "stderr",
     "output_type": "stream",
     "text": [
      "C:\\Users\\halos\\AppData\\Local\\Temp\\ipykernel_21612\\938555970.py:2: FutureWarning: A value is trying to be set on a copy of a DataFrame or Series through chained assignment using an inplace method.\n",
      "The behavior will change in pandas 3.0. This inplace method will never work because the intermediate object on which we are setting values always behaves as a copy.\n",
      "\n",
      "For example, when doing 'df[col].method(value, inplace=True)', try using 'df.method({col: value}, inplace=True)' or df[col] = df[col].method(value) instead, to perform the operation inplace on the original object.\n",
      "\n",
      "\n",
      "  data['Estimated Average Stage Time'].fillna(data['Estimated Average Stage Time'].mean(), inplace=True)\n",
      "C:\\Users\\halos\\AppData\\Local\\Temp\\ipykernel_21612\\938555970.py:3: FutureWarning: A value is trying to be set on a copy of a DataFrame or Series through chained assignment using an inplace method.\n",
      "The behavior will change in pandas 3.0. This inplace method will never work because the intermediate object on which we are setting values always behaves as a copy.\n",
      "\n",
      "For example, when doing 'df[col].method(value, inplace=True)', try using 'df.method({col: value}, inplace=True)' or df[col] = df[col].method(value) instead, to perform the operation inplace on the original object.\n",
      "\n",
      "\n",
      "  data['Actual Average Stage Time'].fillna(data['Actual Average Stage Time'].mean(), inplace=True)\n",
      "C:\\Users\\halos\\AppData\\Local\\Temp\\ipykernel_21612\\938555970.py:4: FutureWarning: A value is trying to be set on a copy of a DataFrame or Series through chained assignment using an inplace method.\n",
      "The behavior will change in pandas 3.0. This inplace method will never work because the intermediate object on which we are setting values always behaves as a copy.\n",
      "\n",
      "For example, when doing 'df[col].method(value, inplace=True)', try using 'df.method({col: value}, inplace=True)' or df[col] = df[col].method(value) instead, to perform the operation inplace on the original object.\n",
      "\n",
      "\n",
      "  data['Ambient Temperature'].fillna(data['Ambient Temperature'].mean(), inplace=True)\n",
      "C:\\Users\\halos\\AppData\\Local\\Temp\\ipykernel_21612\\938555970.py:7: FutureWarning: A value is trying to be set on a copy of a DataFrame or Series through chained assignment using an inplace method.\n",
      "The behavior will change in pandas 3.0. This inplace method will never work because the intermediate object on which we are setting values always behaves as a copy.\n",
      "\n",
      "For example, when doing 'df[col].method(value, inplace=True)', try using 'df.method({col: value}, inplace=True)' or df[col] = df[col].method(value) instead, to perform the operation inplace on the original object.\n",
      "\n",
      "\n",
      "  data['Fleet Type'].fillna(data['Fleet Type'].mode()[0], inplace=True)\n"
     ]
    }
   ],
   "source": [
    "# Impute missing values in numerical columns with the mean\n",
    "data['Estimated Average Stage Time'].fillna(data['Estimated Average Stage Time'].mean(), inplace=True)\n",
    "data['Actual Average Stage Time'].fillna(data['Actual Average Stage Time'].mean(), inplace=True)\n",
    "data['Ambient Temperature'].fillna(data['Ambient Temperature'].mean(), inplace=True)\n",
    "\n",
    "# For categorical columns, you can fill with mode (if needed)\n",
    "data['Fleet Type'].fillna(data['Fleet Type'].mode()[0], inplace=True)\n",
    "\n",
    "# Check if there are any remaining missing values\n",
    "print(data.isnull().sum())"
   ]
  },
  {
   "cell_type": "markdown",
   "id": "99136030-c7dc-4323-b0bf-9ee69bc7e5db",
   "metadata": {},
   "source": [
    "#### One-hot Encoding (categorical variable has no inherent order)"
   ]
  },
  {
   "cell_type": "code",
   "execution_count": 42,
   "id": "1e0c7ffe-9019-4674-8688-629a781a3be1",
   "metadata": {},
   "outputs": [],
   "source": [
    "# Specify the columns to encode\n",
    "columns_to_encode = ['Frac Fleet', 'Target Formation', 'Field Area', 'Fuel Type', 'Sand Provider ','Fleet Type']\n",
    "\n",
    "# Apply one-hot encoding\n",
    "data_encoded = pd.get_dummies(data, columns=columns_to_encode, drop_first=True)"
   ]
  },
  {
   "cell_type": "code",
   "execution_count": 44,
   "id": "0c061a08-b063-4232-8adb-5aa0d2d901c0",
   "metadata": {},
   "outputs": [],
   "source": [
    "data_encoded = data_encoded.drop('Well Name', axis=1)"
   ]
  },
  {
   "cell_type": "code",
   "execution_count": null,
   "id": "c789bd58-c593-4487-afa1-0704440a9f2d",
   "metadata": {},
   "outputs": [],
   "source": [
    "# Specify the columns to encode\n",
    "columns_to_encode = ['Frac Fleet', 'Target Formation', 'Field Area', 'Fuel Type', 'Sand Provider ','Fleet Type']\n",
    "\n",
    "# Apply one-hot encoding\n",
    "data_encoded_2 = pd.get_dummies(data_remove, columns=columns_to_encode, drop_first=True)"
   ]
  },
  {
   "cell_type": "code",
   "execution_count": null,
   "id": "0cae94a9-f11e-45e2-99bf-8fa5629476b3",
   "metadata": {},
   "outputs": [],
   "source": [
    "data_encoded_2 = data_encoded_2.drop('Well Name', axis=1)"
   ]
  },
  {
   "cell_type": "markdown",
   "id": "0f72dd89-1d80-47af-a001-f0695b49f2e3",
   "metadata": {},
   "source": [
    "#### Isolation Forest to do Outlier Detection"
   ]
  },
  {
   "cell_type": "code",
   "execution_count": null,
   "id": "489e9045-c9a9-4e59-81cf-8a2a19a9d167",
   "metadata": {},
   "outputs": [],
   "source": [
    "from sklearn.ensemble import IsolationForest"
   ]
  },
  {
   "cell_type": "code",
   "execution_count": null,
   "id": "3c66b2c8-4a1b-4c51-8859-d81335fc56b2",
   "metadata": {},
   "outputs": [],
   "source": [
    "isolation_forest = IsolationForest(contamination=0.05)  \n",
    "\n",
    "# Fit the model to your data\n",
    "isolation_forest.fit(data_encoded)"
   ]
  },
  {
   "cell_type": "code",
   "execution_count": null,
   "id": "7c686707-d5fa-4c1c-8e2d-d2e4c5831ace",
   "metadata": {},
   "outputs": [],
   "source": [
    "# Predict -1 for outliers, 1 for inliers\n",
    "predictions = isolation_forest.predict(data_encoded)\n",
    "\n",
    "# Filter inliers (1 indicates inlier)\n",
    "inliers = data_encoded[predictions == 1]"
   ]
  },
  {
   "cell_type": "code",
   "execution_count": null,
   "id": "1f770484-a98b-4b33-8a9c-715b775130a4",
   "metadata": {},
   "outputs": [],
   "source": [
    "isolation_forest_2 = IsolationForest(contamination=0.05)  \n",
    "\n",
    "# Fit the model to your data\n",
    "isolation_forest_2.fit(data_encoded_2)\n",
    "\n",
    "# Predict -1 for outliers, 1 for inliers\n",
    "predictions_2 = isolation_forest_2.predict(data_encoded_2)\n",
    "\n",
    "# Filter inliers (1 indicates inlier)\n",
    "inliers_2 = data_encoded_2[predictions_2 == 1]"
   ]
  },
  {
   "cell_type": "markdown",
   "id": "bcc609f6-df98-4a02-ad00-87608c4804b8",
   "metadata": {},
   "source": [
    "#### Scaling"
   ]
  },
  {
   "cell_type": "markdown",
   "id": "f04711f4-59bc-45b0-b7b9-ec2e63dc1bf8",
   "metadata": {},
   "source": [
    "#### Model 1: RobustScaler with imputing missing data"
   ]
  },
  {
   "cell_type": "code",
   "execution_count": null,
   "id": "24adeafe-0726-4802-b84c-5ae36883bbca",
   "metadata": {},
   "outputs": [],
   "source": [
    "from sklearn.preprocessing import RobustScaler, MinMaxScaler"
   ]
  },
  {
   "cell_type": "code",
   "execution_count": null,
   "id": "f09f4475-164d-4723-97ce-e12c7c32575e",
   "metadata": {},
   "outputs": [],
   "source": [
    "# Initialize the RobustScaler\n",
    "robust_scaler = RobustScaler()\n",
    "\n",
    "# Fit and transform the inliers with RobustScaler\n",
    "inliers_robust_scaled = robust_scaler.fit_transform(inliers)"
   ]
  },
  {
   "cell_type": "code",
   "execution_count": null,
   "id": "5e0a8007-987b-435e-a5d2-c14d02be4828",
   "metadata": {},
   "outputs": [],
   "source": [
    "inliers_robust_scaled_df = pd.DataFrame(inliers_robust_scaled, columns=inliers.columns)"
   ]
  },
  {
   "cell_type": "code",
   "execution_count": null,
   "id": "f2b29a67-23a4-40b7-8b44-2b8b46154040",
   "metadata": {},
   "outputs": [],
   "source": [
    "inliers_robust_scaled_df.to_csv('inliers_robust_scaled_impute.csv', index=False)"
   ]
  },
  {
   "cell_type": "markdown",
   "id": "9519398e-bdb4-4e50-aeda-85ad21cb73e1",
   "metadata": {},
   "source": [
    "#### Model 2: MinMaxScaler with imputing missing data"
   ]
  },
  {
   "cell_type": "code",
   "execution_count": null,
   "id": "ba4e2b5b-ed49-4f0e-a07a-2346ea154c16",
   "metadata": {},
   "outputs": [],
   "source": [
    "# Initialize the MinMaxScaler\n",
    "minmax_scaler = MinMaxScaler()\n",
    "\n",
    "# Fit and transform the inliers with MinMaxScaler\n",
    "inliers_minmax_scaled = minmax_scaler.fit_transform(inliers)"
   ]
  },
  {
   "cell_type": "code",
   "execution_count": null,
   "id": "a6724399-0c0c-46f6-82a5-6b4efbbe4656",
   "metadata": {},
   "outputs": [],
   "source": [
    "inliers_minmax_scaled_df = pd.DataFrame(inliers_minmax_scaled, columns=inliers.columns)"
   ]
  },
  {
   "cell_type": "code",
   "execution_count": null,
   "id": "23159c57-c21e-4f4a-b013-4f6e4055e351",
   "metadata": {},
   "outputs": [],
   "source": [
    "inliers_minmax_scaled_df.to_csv('inliers_minmax_scaled_impute.csv', index=False)"
   ]
  },
  {
   "cell_type": "markdown",
   "id": "35703856-4e37-429c-b883-1316545b3235",
   "metadata": {},
   "source": [
    "#### Model 3: RobustScaler with deleting missing data"
   ]
  },
  {
   "cell_type": "code",
   "execution_count": null,
   "id": "6ece67f9-b4ee-43d8-ad3a-a2cbc9b3ac0c",
   "metadata": {},
   "outputs": [],
   "source": [
    "# Initialize the RobustScaler\n",
    "robust_scaler = RobustScaler()\n",
    "\n",
    "# Fit and transform the inliers with RobustScaler\n",
    "inliers_robust_scaled_2 = robust_scaler.fit_transform(inliers_2)"
   ]
  },
  {
   "cell_type": "code",
   "execution_count": null,
   "id": "112a3813-a908-4002-b9a2-56432c70815c",
   "metadata": {},
   "outputs": [],
   "source": [
    "inliers_robust_scaled_df_2 = pd.DataFrame(inliers_robust_scaled_2, columns=inliers_2.columns)"
   ]
  },
  {
   "cell_type": "code",
   "execution_count": null,
   "id": "2f4d6b34-0d78-4093-b04f-ead9adcbb9ea",
   "metadata": {},
   "outputs": [],
   "source": [
    "inliers_robust_scaled_df_2.to_csv('inliers_robust_scaled_delete.csv', index=False)"
   ]
  },
  {
   "cell_type": "markdown",
   "id": "2626438d-25c5-48d7-8081-12fc066e5362",
   "metadata": {},
   "source": [
    "#### Model 4: RobustScaler with deleting missing data"
   ]
  },
  {
   "cell_type": "code",
   "execution_count": null,
   "id": "5464500f-85b3-4916-9208-ebd86ca0eab9",
   "metadata": {},
   "outputs": [],
   "source": [
    "# Initialize the MinMaxScaler\n",
    "minmax_scaler = MinMaxScaler()\n",
    "\n",
    "# Fit and transform the inliers with MinMaxScaler\n",
    "inliers_minmax_scaled_2 = minmax_scaler.fit_transform(inliers_2)"
   ]
  },
  {
   "cell_type": "code",
   "execution_count": null,
   "id": "59e61e91-b145-4231-8f6c-b83984d1a4c8",
   "metadata": {},
   "outputs": [],
   "source": [
    "inliers_minmax_scaled_df_2 = pd.DataFrame(inliers_minmax_scaled_2, columns=inliers_2.columns)"
   ]
  },
  {
   "cell_type": "code",
   "execution_count": null,
   "id": "e198f7e7-9b89-4e3c-94d5-f259caa5e8d3",
   "metadata": {},
   "outputs": [],
   "source": [
    "inliers_minmax_scaled_df_2.to_csv('inliers_minmax_scaled_delete.csv', index=False)"
   ]
  }
 ],
 "metadata": {
  "kernelspec": {
   "display_name": "Python [conda env:base] *",
   "language": "python",
   "name": "conda-base-py"
  },
  "language_info": {
   "codemirror_mode": {
    "name": "ipython",
    "version": 3
   },
   "file_extension": ".py",
   "mimetype": "text/x-python",
   "name": "python",
   "nbconvert_exporter": "python",
   "pygments_lexer": "ipython3",
   "version": "3.12.7"
  }
 },
 "nbformat": 4,
 "nbformat_minor": 5
}
